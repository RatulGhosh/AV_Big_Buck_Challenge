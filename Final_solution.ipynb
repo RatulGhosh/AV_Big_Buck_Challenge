{
 "cells": [
  {
   "cell_type": "code",
   "execution_count": 3,
   "metadata": {
    "collapsed": true
   },
   "outputs": [],
   "source": [
    "import pandas as pd\n",
    "import xgboost\n",
    "import numpy as np\n",
    "from sklearn.preprocessing import LabelEncoder"
   ]
  },
  {
   "cell_type": "code",
   "execution_count": 4,
   "metadata": {
    "collapsed": false
   },
   "outputs": [
    {
     "name": "stdout",
     "output_type": "stream",
     "text": [
      "Reading files\n"
     ]
    }
   ],
   "source": [
    "# The below files are as provided in the competition\n",
    "print('Reading files')\n",
    "df = pd.read_csv('train.csv')#train csv\n",
    "\n",
    "atms = pd.read_csv('ATM_Info.csv')#ATM info csv\n",
    "\n",
    "df_test_ = pd.read_csv('test.csv')#test csv\n",
    "\n",
    "sub_re = pd.read_csv('Replenishment.csv')#Submission - Replenishment.csv\n",
    "\n",
    "sub_with = pd.read_csv('Withdrawal.csv')#Submission - Withdrawal.csv"
   ]
  },
  {
   "cell_type": "code",
   "execution_count": 5,
   "metadata": {
    "collapsed": false
   },
   "outputs": [],
   "source": [
    "def treat_df(df):\n",
    "    df_new = df.copy()\n",
    "    df_new = pd.merge(df, atms, on='ATM_ID', how='left')\n",
    "\n",
    "    df_new['Date'] = pd.to_datetime(df_new.Date, format='%d-%b-%y')\n",
    "\n",
    "    df_new['day']= df_new.Date.dt.day\n",
    "\n",
    "    df_new['month'] = df_new.Date.dt.month\n",
    "\n",
    "    df_new['year'] = df_new.Date.dt.year\n",
    "\n",
    "    df_new['weekday'] = df_new.Date.dt.dayofweek\n",
    "\n",
    "    df_new['day_of_year'] = df_new.Date.dt.dayofyear\n",
    "    return df_new"
   ]
  },
  {
   "cell_type": "code",
   "execution_count": 6,
   "metadata": {
    "collapsed": false
   },
   "outputs": [
    {
     "name": "stdout",
     "output_type": "stream",
     "text": [
      "Adding features...\n"
     ]
    }
   ],
   "source": [
    "print('Adding features...')\n",
    "df_train = treat_df(df)"
   ]
  },
  {
   "cell_type": "code",
   "execution_count": 7,
   "metadata": {
    "collapsed": true
   },
   "outputs": [],
   "source": [
    "df_train.drop(['Balance'],1, inplace=True)"
   ]
  },
  {
   "cell_type": "code",
   "execution_count": 8,
   "metadata": {
    "collapsed": true
   },
   "outputs": [],
   "source": [
    "sub_with.columns = ['ID', 'ATM_ID', 'Date', 'Withdrawal']"
   ]
  },
  {
   "cell_type": "code",
   "execution_count": 9,
   "metadata": {
    "collapsed": false
   },
   "outputs": [],
   "source": [
    "df_test = treat_df(sub_with)"
   ]
  },
  {
   "cell_type": "code",
   "execution_count": 10,
   "metadata": {
    "collapsed": false
   },
   "outputs": [],
   "source": [
    "ulimit = df_train[['ATM_ID', 'Withdrawal']].groupby('ATM_ID').quantile(0.99).reset_index()"
   ]
  },
  {
   "cell_type": "code",
   "execution_count": 11,
   "metadata": {
    "collapsed": false
   },
   "outputs": [],
   "source": [
    "df_train = df_train.merge(ulimit, 'left', 'ATM_ID', suffixes=('', '_ulimit'))"
   ]
  },
  {
   "cell_type": "code",
   "execution_count": 12,
   "metadata": {
    "collapsed": false
   },
   "outputs": [],
   "source": [
    "df_train.drop(df_train.loc[df_train.Withdrawal>df_train.Withdrawal_ulimit, :].index, inplace=True)"
   ]
  },
  {
   "cell_type": "code",
   "execution_count": 13,
   "metadata": {
    "collapsed": true
   },
   "outputs": [],
   "source": [
    "df_train.drop(['Withdrawal_ulimit'],1,inplace=True)"
   ]
  },
  {
   "cell_type": "code",
   "execution_count": 14,
   "metadata": {
    "collapsed": false
   },
   "outputs": [],
   "source": [
    "df_train.index = range(df_train.shape[0])"
   ]
  },
  {
   "cell_type": "code",
   "execution_count": 15,
   "metadata": {
    "collapsed": false
   },
   "outputs": [],
   "source": [
    "df_mean = df_train.groupby('ATM_ID', as_index=False)['Withdrawal'].mean()"
   ]
  },
  {
   "cell_type": "code",
   "execution_count": 16,
   "metadata": {
    "collapsed": true
   },
   "outputs": [],
   "source": [
    "df_std = df_train[['ATM_ID', 'Withdrawal']].groupby('ATM_ID').std()['Withdrawal'].reset_index()"
   ]
  },
  {
   "cell_type": "code",
   "execution_count": 17,
   "metadata": {
    "collapsed": false
   },
   "outputs": [],
   "source": [
    "df_uq = df_train[['ATM_ID', 'Withdrawal']].groupby('ATM_ID').quantile(0.75).reset_index()\n",
    "df_lq = df_train[['ATM_ID', 'Withdrawal']].groupby('ATM_ID').quantile(0.25).reset_index()"
   ]
  },
  {
   "cell_type": "code",
   "execution_count": 18,
   "metadata": {
    "collapsed": true
   },
   "outputs": [],
   "source": [
    "df_all = pd.concat([df_train, df_test])"
   ]
  },
  {
   "cell_type": "code",
   "execution_count": 19,
   "metadata": {
    "collapsed": false
   },
   "outputs": [],
   "source": [
    "df_all = df_all.merge(df_mean, 'left', 'ATM_ID', suffixes=('','_mean'))\n",
    "df_all = df_all.merge(df_std, 'left', 'ATM_ID', suffixes=('','_std'))\n",
    "df_all = df_all.merge(df_uq, 'left', 'ATM_ID', suffixes=('','_uq'))\n",
    "df_all = df_all.merge(df_lq, 'left', 'ATM_ID', suffixes=('','_lq'))"
   ]
  },
  {
   "cell_type": "code",
   "execution_count": 20,
   "metadata": {
    "collapsed": true
   },
   "outputs": [],
   "source": [
    "le = LabelEncoder()"
   ]
  },
  {
   "cell_type": "code",
   "execution_count": 21,
   "metadata": {
    "collapsed": false
   },
   "outputs": [],
   "source": [
    "for col in df_all.columns:\n",
    "    if col in ['Facility', 'Type']:\n",
    "        df_all[col] = le.fit_transform(df_all[col])"
   ]
  },
  {
   "cell_type": "code",
   "execution_count": 22,
   "metadata": {
    "collapsed": false
   },
   "outputs": [
    {
     "name": "stdout",
     "output_type": "stream",
     "text": [
      "Feature engineering done.\n",
      "Now training...This may take some time\n"
     ]
    }
   ],
   "source": [
    "print('Feature engineering done.')\n",
    "print('Now training...This may take some time')"
   ]
  },
  {
   "cell_type": "code",
   "execution_count": 23,
   "metadata": {
    "collapsed": false
   },
   "outputs": [],
   "source": [
    "xgb = xgboost.XGBRegressor(n_estimators=600, learning_rate=0.02, \n",
    "                           max_depth=10, silent=True, min_child_weight=6, \n",
    "                           subsample=0.8, colsample_bytree = 0.7, reg_lambda = 0.5)"
   ]
  },
  {
   "cell_type": "code",
   "execution_count": 24,
   "metadata": {
    "collapsed": true
   },
   "outputs": [],
   "source": [
    "df_train = df_all.loc[df_all.ID.isin(df.ID.unique()), :]"
   ]
  },
  {
   "cell_type": "code",
   "execution_count": 25,
   "metadata": {
    "collapsed": true
   },
   "outputs": [],
   "source": [
    "df_test = df_all.loc[df_all.ID.isin(df_test.ID.unique()), :]"
   ]
  },
  {
   "cell_type": "code",
   "execution_count": 26,
   "metadata": {
    "collapsed": false
   },
   "outputs": [],
   "source": [
    "predictors = df_train.columns.drop(['Date','ATM_ID', 'Withdrawal','ID'])"
   ]
  },
  {
   "cell_type": "code",
   "execution_count": 27,
   "metadata": {
    "collapsed": false,
    "scrolled": true
   },
   "outputs": [
    {
     "data": {
      "text/plain": [
       "XGBRegressor(base_score=0.5, colsample_bylevel=1, colsample_bytree=0.7,\n",
       "       gamma=0, learning_rate=0.02, max_delta_step=0, max_depth=10,\n",
       "       min_child_weight=6, missing=None, n_estimators=600, nthread=-1,\n",
       "       objective='reg:linear', reg_alpha=0, reg_lambda=0.5,\n",
       "       scale_pos_weight=1, seed=0, silent=True, subsample=0.8)"
      ]
     },
     "execution_count": 27,
     "metadata": {},
     "output_type": "execute_result"
    }
   ],
   "source": [
    "xgb.fit(df_train[predictors], df_train['Withdrawal'])"
   ]
  },
  {
   "cell_type": "code",
   "execution_count": 28,
   "metadata": {
    "collapsed": false
   },
   "outputs": [
    {
     "name": "stderr",
     "output_type": "stream",
     "text": [
      "/home/aakash/anaconda3/lib/python3.5/site-packages/ipykernel/__main__.py:1: SettingWithCopyWarning: \n",
      "A value is trying to be set on a copy of a slice from a DataFrame.\n",
      "Try using .loc[row_indexer,col_indexer] = value instead\n",
      "\n",
      "See the caveats in the documentation: http://pandas.pydata.org/pandas-docs/stable/indexing.html#indexing-view-versus-copy\n",
      "  if __name__ == '__main__':\n"
     ]
    }
   ],
   "source": [
    "df_test['Withdrawal'] = xgb.predict(df_test[predictors])"
   ]
  },
  {
   "cell_type": "code",
   "execution_count": 29,
   "metadata": {
    "collapsed": false
   },
   "outputs": [
    {
     "name": "stderr",
     "output_type": "stream",
     "text": [
      "/home/aakash/anaconda3/lib/python3.5/site-packages/pandas/core/indexing.py:465: SettingWithCopyWarning: \n",
      "A value is trying to be set on a copy of a slice from a DataFrame.\n",
      "Try using .loc[row_indexer,col_indexer] = value instead\n",
      "\n",
      "See the caveats in the documentation: http://pandas.pydata.org/pandas-docs/stable/indexing.html#indexing-view-versus-copy\n",
      "  self.obj[item] = s\n"
     ]
    }
   ],
   "source": [
    "df_test.loc[df_test.Withdrawal<0, 'Withdrawal'] = 0"
   ]
  },
  {
   "cell_type": "code",
   "execution_count": 30,
   "metadata": {
    "collapsed": false
   },
   "outputs": [
    {
     "name": "stdout",
     "output_type": "stream",
     "text": [
      "Withdrawal predicted. Now optimizing for replenishment.\n"
     ]
    }
   ],
   "source": [
    "print('Withdrawal predicted. Now optimizing for replenishment.')"
   ]
  },
  {
   "cell_type": "code",
   "execution_count": 31,
   "metadata": {
    "collapsed": true
   },
   "outputs": [],
   "source": [
    "def cost_function(df_, strategy, repl_amount):\n",
    "    df = df_.copy()\n",
    "    #getting replenishment according to strategy\n",
    "    if strategy==0:\n",
    "        df['is_refilled'] = 0\n",
    "        df['Replenishment'] = df['is_refilled']*repl_amount\n",
    "    if strategy==1:\n",
    "        df['is_refilled'] = 1\n",
    "        df['Replenishment'] = df['is_refilled']*repl_amount\n",
    "    if strategy==2:\n",
    "        df['range_'] = range(len(df))\n",
    "        df.loc[df.range_%2==0 , 'is_refilled'] = 1\n",
    "        df.is_refilled.fillna(0, inplace=True)\n",
    "        df['Replenishment'] = df['is_refilled']*repl_amount\n",
    "    if strategy==3:\n",
    "        df.loc[(df.weekday==0) | (df.weekday==3), 'is_refilled'] = 1\n",
    "        df.is_refilled.fillna(0, inplace=True)\n",
    "        df['Replenishment'] = df['is_refilled']*repl_amount\n",
    "    if strategy==4:\n",
    "        df.loc[df.weekday==3, 'is_refilled'] = 1\n",
    "        df.is_refilled.fillna(0, inplace=True)\n",
    "        df['Replenishment'] = df['is_refilled']*repl_amount\n",
    "    if strategy==5:\n",
    "        df.loc[df.weekday==0, 'is_refilled'] = 1\n",
    "        df.is_refilled.fillna(0, inplace=True)\n",
    "        df['Replenishment'] = df['is_refilled']*repl_amount\n",
    "    if strategy==6:\n",
    "        df.loc[df.weekday==3,'is_thursday'] = 1\n",
    "        df.is_thursday.fillna(0, inplace=True)\n",
    "        df['cumsum_thursday']  = df.is_thursday.cumsum()%2\n",
    "        df['is_refilled'] = df.is_thursday*df.cumsum_thursday\n",
    "        df['Replenishment'] = df.is_refilled*repl_amount\n",
    "        df.drop(['cumsum_thursday', 'is_thursday'],1, inplace=True)\n",
    "    #Calculating balance accroding to replenishment\n",
    "    df['Difference'] = (df['Replenishment']-df['Withdrawal'])\n",
    "\n",
    "    df['cumsum_is_refilled'] = df.is_refilled.cumsum()\n",
    "\n",
    "    df['Balance'] = df.groupby('cumsum_is_refilled')['Difference'].cumsum()\n",
    "    df.drop(['cumsum_is_refilled', 'Difference'], 1, inplace=True)\n",
    "    \n",
    "    #calculating cost\n",
    "    #cost of filling\n",
    "    cost_of_filling = df['is_refilled'].sum()*300\n",
    "    #cost of cash\n",
    "    costoofcash = (df.loc[df.Balance>0, 'Balance'].mean())*(0.15/12)\n",
    "    cost_of_cash = 0 if np.isnan(costoofcash) else costoofcash\n",
    "    #cost of stockout\n",
    "    cos = df.loc[df.Balance<0, 'Balance'].count()\n",
    "    cost_of_stockout = 0 if np.isnan(cos) else int(cos)*1000\n",
    "    \n",
    "    total_cost = cost_of_cash+cost_of_stockout+cost_of_filling\n",
    "    \n",
    "    return total_cost"
   ]
  },
  {
   "cell_type": "code",
   "execution_count": 32,
   "metadata": {
    "collapsed": false,
    "scrolled": true
   },
   "outputs": [],
   "source": [
    "def Optimize(df_exp):\n",
    "#     all_cost = []\n",
    "    optimum_repl = 0\n",
    "    best_strategy = [0,0,cost_function(df_exp, 1,0)]\n",
    "    for strat in range(1,7):\n",
    "        min_ = cost_function(df_exp, strat, 0)\n",
    "        cost = []\n",
    "        for value in range(0, 200000, 1000):\n",
    "            curr_cost = cost_function(df_exp, strat, value)\n",
    "            if curr_cost<min_:\n",
    "                min_ = curr_cost\n",
    "                optimum_repl = value\n",
    "#             if curr_cost>prev_cost:\n",
    "#                 print('breaking at =', value)\n",
    "#                 break\n",
    "# #             cost.append(curr_cost)\n",
    "#         print('Strategy =', strat,'Value = ', optimum_repl, 'Cost =',min_)\n",
    "        if min_<best_strategy[2]:\n",
    "            best_strategy = [strat, optimum_repl, min_]\n",
    "#         all_cost.append(cost)\n",
    "    return best_strategy"
   ]
  },
  {
   "cell_type": "code",
   "execution_count": 34,
   "metadata": {
    "collapsed": true
   },
   "outputs": [],
   "source": [
    "sol_re = pd.DataFrame(columns=['ATM_ID', 'Replenishment frequency', 'Replenishment amount'])"
   ]
  },
  {
   "cell_type": "code",
   "execution_count": 45,
   "metadata": {
    "collapsed": true
   },
   "outputs": [],
   "source": [
    "df_t = df_test.loc[df_test.ATM_ID=='SRNO00279', :]"
   ]
  },
  {
   "cell_type": "code",
   "execution_count": 69,
   "metadata": {
    "collapsed": false
   },
   "outputs": [
    {
     "name": "stdout",
     "output_type": "stream",
     "text": [
      "CPU times: user 0 ns, sys: 0 ns, total: 0 ns\n",
      "Wall time: 10.7 µs\n"
     ]
    }
   ],
   "source": [
    "%time\n",
    "cost = []\n",
    "for i in range(0,200000, 1000):\n",
    "    cost.append((cost_function(df_t, 4, i)))"
   ]
  },
  {
   "cell_type": "code",
   "execution_count": 70,
   "metadata": {
    "collapsed": false
   },
   "outputs": [
    {
     "data": {
      "image/png": "[encoded data removed]",
      "text/plain": [
       "<matplotlib.figure.Figure at 0x7fc4cc22ae10>"
      ]
     },
     "metadata": {},
     "output_type": "display_data"
    }
   ],
   "source": [
    "plt.figure(figsize=(10,8))\n",
    "plt.plot(range(0,200000,1000), cost)\n",
    "plt.xlabel('Replenishment value')\n",
    "plt.ylabel('Total Cost')\n",
    "plt.title('Plot for strategy 4')\n",
    "plt.show()"
   ]
  },
  {
   "cell_type": "code",
   "execution_count": null,
   "metadata": {
    "collapsed": true
   },
   "outputs": [],
   "source": [
    "counter=0\n",
    "for atm in df_test.ATM_ID.unique():\n",
    "    df_temp = df_test.loc[df_test.ATM_ID==atm, :]\n",
    "    counter+=1\n",
    "    print('Optimizing for ATM_ID :', atm, 479-counter, 'optimizations left', end='\\r')\n",
    "    curr_best = Optimize(df_temp)\n",
    "    atm_sol = pd.Series({'ATM_ID':atm, 'Replenishment frequency':curr_best[0],'Replenishment amount':curr_best[1]})\n",
    "    sol_re = sol_re.append(atm_sol,ignore_index=True)"
   ]
  },
  {
   "cell_type": "code",
   "execution_count": null,
   "metadata": {
    "collapsed": false
   },
   "outputs": [],
   "source": [
    "sol_re.to_csv('Solution_Replenishment.csv', index=False)#should be renamed to Withdrawal.csv for submission"
   ]
  },
  {
   "cell_type": "code",
   "execution_count": null,
   "metadata": {
    "collapsed": true
   },
   "outputs": [],
   "source": [
    "sol_with = df_test[['ID', 'ATM_ID','Date' ,'Withdrawal']]"
   ]
  },
  {
   "cell_type": "code",
   "execution_count": null,
   "metadata": {
    "collapsed": false
   },
   "outputs": [],
   "source": [
    "sol_with.columns = [['ID', 'ATM_ID', 'DATE', 'WITHDRAWAL']]"
   ]
  },
  {
   "cell_type": "code",
   "execution_count": null,
   "metadata": {
    "collapsed": true
   },
   "outputs": [],
   "source": [
    "sol_with.to_csv('Solution_Withdrawal.csv', index=False)#should be renamed to Withdrawal.csv for submission"
   ]
  }
 ],
 "metadata": {
  "kernelspec": {
   "display_name": "Python 3",
   "language": "python",
   "name": "python3"
  },
  "language_info": {
   "codemirror_mode": {
    "name": "ipython",
    "version": 3
   },
   "file_extension": ".py",
   "mimetype": "text/x-python",
   "name": "python",
   "nbconvert_exporter": "python",
   "pygments_lexer": "ipython3",
   "version": "3.5.2"
  }
 },
 "nbformat": 4,
 "nbformat_minor": 0
}
